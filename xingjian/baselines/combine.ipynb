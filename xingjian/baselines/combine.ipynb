{
 "cells": [
  {
   "cell_type": "code",
   "execution_count": 1,
   "metadata": {},
   "outputs": [
    {
     "name": "stdout",
     "output_type": "stream",
     "text": [
      "loaded 1.npz\n",
      "appended 1.npz\n",
      "loaded 2.npz\n",
      "appended 2.npz\n",
      "loaded 3.npz\n",
      "appended 3.npz\n",
      "loaded 4.npz\n",
      "appended 4.npz\n",
      "loaded 5.npz\n",
      "appended 5.npz\n",
      "loaded 6.npz\n",
      "appended 6.npz\n",
      "loaded 7.npz\n",
      "appended 7.npz\n",
      "loaded 8.npz\n",
      "appended 8.npz\n",
      "loaded 9.npz\n",
      "appended 9.npz\n",
      "loaded 10.npz\n",
      "appended 10.npz\n"
     ]
    }
   ],
   "source": [
    "import numpy as np\n",
    "\n",
    "# List your files here\n",
    "file_list = [\"1.npz\", \"2.npz\", \"3.npz\", \"4.npz\", \"5.npz\", \n",
    "             \"6.npz\", \"7.npz\", \"8.npz\", \"9.npz\", \"10.npz\"]\n",
    "\n",
    "# This list will hold all the images\n",
    "all_images = []\n",
    "\n",
    "for file in file_list:\n",
    "    # Load each file\n",
    "    path = \"/viscam/projects/ns-diffusion/dataset/clevr_rel_2objs_balanced_imgs/\"\n",
    "    data = np.load(path + file)\n",
    "    print(f\"loaded {file}\")\n",
    "\n",
    "    # Append the 'images' array from each file to all_images\n",
    "    all_images.append(data['images'])\n",
    "    print(f\"appended {file}\")\n",
    "\n",
    "# Stack all images arrays into one along the first axis\n",
    "all_images = np.concatenate(all_images, axis=0)\n",
    "\n",
    "# Save all images into one .npz file\n",
    "np.savez(\"combined_file.npz\", images=all_images)\n"
   ]
  },
  {
   "cell_type": "code",
   "execution_count": null,
   "metadata": {},
   "outputs": [],
   "source": [
    "print(\"done\")"
   ]
  }
 ],
 "metadata": {
  "kernelspec": {
   "display_name": "Python 3",
   "language": "python",
   "name": "python3"
  },
  "language_info": {
   "codemirror_mode": {
    "name": "ipython",
    "version": 3
   },
   "file_extension": ".py",
   "mimetype": "text/x-python",
   "name": "python",
   "nbconvert_exporter": "python",
   "pygments_lexer": "ipython3",
   "version": "3.10.6"
  },
  "orig_nbformat": 4
 },
 "nbformat": 4,
 "nbformat_minor": 2
}
