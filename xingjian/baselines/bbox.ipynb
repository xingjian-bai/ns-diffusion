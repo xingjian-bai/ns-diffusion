{
 "cells": [
  {
   "cell_type": "code",
   "execution_count": 1,
   "metadata": {},
   "outputs": [],
   "source": [
    "import sys\n",
    "sys.path.append('../')\n",
    "from dataset import BoundingBox, Object, Relation, RelationalDataset, RelationalDataset1O"
   ]
  },
  {
   "cell_type": "code",
   "execution_count": 2,
   "metadata": {},
   "outputs": [
    {
     "name": "stdout",
     "output_type": "stream",
     "text": [
      "Loading images from image_path\n"
     ]
    }
   ],
   "source": [
    "dataset2 = RelationalDataset1O()\n",
    "\n",
    "import matplotlib.pyplot as plt\n",
    "from numpy.random import randint as rand"
   ]
  },
  {
   "cell_type": "code",
   "execution_count": 108,
   "metadata": {},
   "outputs": [
    {
     "name": "stdout",
     "output_type": "stream",
     "text": [
      "[]\n",
      "[tensor([5, 1, 0, 1])]\n",
      "\n",
      "[tensor([-0.0547,  0.0312,  0.2734,  0.2969])]\n"
     ]
    },
    {
     "data": {
      "image/png": "[encoded data removed]",
      "text/plain": [
       "<PIL.Image.Image image mode=RGB size=256x128>"
      ]
     },
     "execution_count": 108,
     "metadata": {},
     "output_type": "execute_result"
    }
   ],
   "source": [
    "rand_id = rand(0, len(dataset2.images))\n",
    "image0 = dataset2.annotated_images[rand_id]\n",
    "image1 = dataset2.images[rand_id]\n",
    "relations = dataset2.relations[rand_id]\n",
    "objects = dataset2.objects[rand_id]\n",
    "prompt = dataset2.prompts[rand_id]\n",
    "bboxes = dataset2.bboxes[rand_id]\n",
    "\n",
    "from utils import combine_images\n",
    "image = combine_images(image1, image0)\n",
    "print([rel.tensorize() for rel in relations])\n",
    "print([obj.tensorize() for obj in objects])\n",
    "print(prompt)\n",
    "print([bbox.tensorize() for bbox in bboxes])\n",
    "image\n"
   ]
  },
  {
   "cell_type": "code",
   "execution_count": 110,
   "metadata": {},
   "outputs": [
    {
     "name": "stdout",
     "output_type": "stream",
     "text": [
      "tensor([0, 0, 0, 1])\n",
      "tensor([4, 1, 0, 1])\n",
      "tensor([0, 1, 0, 0])\n",
      "tensor([7, 0, 0, 1])\n",
      "tensor([3, 1, 0, 1])\n",
      "tensor([6, 1, 1, 1])\n",
      "tensor([0, 0, 2, 0])\n",
      "tensor([5, 0, 2, 1])\n",
      "tensor([4, 0, 1, 1])\n",
      "tensor([0, 1, 2, 0])\n",
      "tensor([2, 0, 2, 0])\n",
      "tensor([5, 0, 0, 0])\n",
      "tensor([3, 0, 2, 1])\n",
      "tensor([3, 0, 2, 1])\n",
      "tensor([2, 0, 0, 1])\n",
      "tensor([1, 0, 1, 1])\n",
      "tensor([6, 1, 2, 1])\n",
      "tensor([4, 0, 0, 0])\n",
      "tensor([3, 0, 0, 1])\n",
      "tensor([6, 1, 0, 1])\n",
      "tensor([1, 1, 1, 1])\n",
      "tensor([5, 1, 2, 1])\n",
      "tensor([1, 0, 2, 0])\n",
      "tensor([4, 0, 1, 1])\n",
      "tensor([6, 1, 2, 1])\n",
      "tensor([0, 1, 0, 1])\n",
      "tensor([2, 0, 1, 1])\n",
      "tensor([5, 1, 2, 0])\n",
      "tensor([2, 0, 2, 0])\n",
      "tensor([2, 0, 0, 1])\n",
      "tensor([6, 1, 2, 1])\n",
      "tensor([6, 0, 2, 0])\n",
      "tensor([4, 0, 2, 1])\n",
      "tensor([2, 1, 0, 0])\n",
      "tensor([5, 0, 0, 0])\n",
      "tensor([4, 1, 0, 1])\n",
      "tensor([0, 0, 1, 1])\n",
      "tensor([5, 0, 2, 0])\n",
      "tensor([0, 1, 1, 1])\n",
      "tensor([2, 1, 1, 1])\n",
      "tensor([1, 1, 2, 0])\n",
      "tensor([4, 0, 0, 0])\n",
      "tensor([7, 0, 0, 0])\n",
      "tensor([5, 1, 2, 1])\n",
      "tensor([7, 0, 2, 0])\n",
      "tensor([2, 0, 2, 0])\n",
      "tensor([4, 0, 1, 1])\n",
      "tensor([3, 1, 2, 0])\n",
      "tensor([7, 0, 0, 1])\n",
      "tensor([7, 1, 0, 0])\n",
      "tensor([5, 0, 0, 0])\n",
      "tensor([7, 0, 1, 1])\n",
      "tensor([5, 1, 1, 1])\n",
      "tensor([7, 1, 1, 1])\n",
      "tensor([5, 1, 0, 1])\n",
      "tensor([4, 1, 1, 1])\n",
      "tensor([5, 1, 1, 0])\n",
      "tensor([2, 0, 2, 0])\n",
      "tensor([7, 1, 0, 0])\n",
      "tensor([1, 1, 2, 0])\n",
      "tensor([0, 0, 1, 1])\n",
      "tensor([5, 1, 1, 0])\n",
      "tensor([3, 1, 2, 1])\n",
      "tensor([6, 1, 2, 1])\n",
      "tensor([6, 0, 2, 1])\n",
      "tensor([0, 1, 0, 1])\n",
      "tensor([3, 0, 2, 1])\n",
      "tensor([5, 1, 0, 1])\n",
      "tensor([7, 1, 2, 0])\n",
      "tensor([7, 1, 1, 1])\n",
      "tensor([4, 0, 2, 1])\n",
      "tensor([4, 0, 1, 0])\n",
      "tensor([3, 0, 0, 0])\n",
      "tensor([2, 0, 2, 1])\n",
      "tensor([4, 1, 1, 1])\n",
      "tensor([0, 1, 0, 0])\n",
      "tensor([7, 0, 2, 1])\n",
      "tensor([1, 0, 2, 1])\n",
      "tensor([6, 0, 0, 0])\n",
      "tensor([5, 1, 2, 0])\n",
      "tensor([4, 0, 2, 1])\n",
      "tensor([2, 1, 1, 1])\n",
      "tensor([7, 0, 0, 1])\n",
      "tensor([1, 1, 0, 1])\n",
      "tensor([4, 0, 1, 1])\n",
      "tensor([1, 0, 2, 1])\n",
      "tensor([0, 1, 0, 0])\n",
      "tensor([3, 1, 1, 1])\n",
      "tensor([6, 1, 2, 1])\n",
      "tensor([1, 0, 1, 1])\n",
      "tensor([1, 0, 0, 0])\n",
      "tensor([2, 0, 2, 1])\n",
      "tensor([6, 1, 2, 1])\n",
      "tensor([4, 1, 0, 1])\n",
      "tensor([3, 1, 2, 0])\n",
      "tensor([2, 1, 0, 1])\n",
      "tensor([7, 0, 2, 1])\n",
      "tensor([1, 0, 1, 1])\n",
      "tensor([0, 0, 0, 1])\n",
      "tensor([1, 1, 2, 1])\n"
     ]
    }
   ],
   "source": [
    "for i in range(100):\n",
    "    obj = dataset2.objects[i][0]\n",
    "    print(obj.tensorize())"
   ]
  },
  {
   "cell_type": "code",
   "execution_count": 5,
   "metadata": {},
   "outputs": [],
   "source": [
    "image0 = dataset2.annotated_images[rand_id]\n",
    "image1 = dataset2.images[rand_id]\n",
    "relations = dataset2.relations[rand_id]\n",
    "objects = dataset2.objects[rand_id]\n",
    "prompt = dataset2.prompts[rand_id]\n",
    "bboxes = dataset2.bboxes[rand_id]"
   ]
  },
  {
   "cell_type": "code",
   "execution_count": 6,
   "metadata": {},
   "outputs": [
    {
     "name": "stdout",
     "output_type": "stream",
     "text": [
      "[]\n",
      "[tensor([4, 0, 1, 1])]\n",
      "\n",
      "[tensor([-0.4766, -0.0078,  0.2734,  0.2891])]\n"
     ]
    },
    {
     "data": {
      "image/png": "[encoded data removed]",
      "text/plain": [
       "<PIL.Image.Image image mode=RGB size=256x128>"
      ]
     },
     "execution_count": 6,
     "metadata": {},
     "output_type": "execute_result"
    }
   ],
   "source": [
    "from utils import combine_images\n",
    "image = combine_images(image1, image0)\n",
    "print([rel.tensorize() for rel in relations])\n",
    "print([obj.tensorize() for obj in objects])\n",
    "print(prompt)\n",
    "print([bbox.tensorize() for bbox in bboxes])\n",
    "image"
   ]
  },
  {
   "cell_type": "code",
   "execution_count": 10,
   "metadata": {},
   "outputs": [],
   "source": [
    "import numpy as np\n",
    "data = np.load('/viscam/projects/ns-diffusion/dataset/clevr_rel_1obj_imgs/1.npz')"
   ]
  },
  {
   "cell_type": "code",
   "execution_count": 11,
   "metadata": {},
   "outputs": [
    {
     "data": {
      "text/plain": [
       "['images']"
      ]
     },
     "execution_count": 11,
     "metadata": {},
     "output_type": "execute_result"
    }
   ],
   "source": [
    "data.files"
   ]
  },
  {
   "cell_type": "code",
   "execution_count": null,
   "metadata": {},
   "outputs": [],
   "source": []
  }
 ],
 "metadata": {
  "kernelspec": {
   "display_name": "Python 3",
   "language": "python",
   "name": "python3"
  },
  "language_info": {
   "codemirror_mode": {
    "name": "ipython",
    "version": 3
   },
   "file_extension": ".py",
   "mimetype": "text/x-python",
   "name": "python",
   "nbconvert_exporter": "python",
   "pygments_lexer": "ipython3",
   "version": "3.10.6"
  },
  "orig_nbformat": 4
 },
 "nbformat": 4,
 "nbformat_minor": 2
}
