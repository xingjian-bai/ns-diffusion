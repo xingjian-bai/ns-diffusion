{
 "cells": [
  {
   "cell_type": "code",
   "execution_count": 19,
   "metadata": {},
   "outputs": [
    {
     "name": "stdout",
     "output_type": "stream",
     "text": [
      "The autoreload extension is already loaded. To reload it, use:\n",
      "  %reload_ext autoreload\n"
     ]
    }
   ],
   "source": [
    "%load_ext autoreload\n",
    "%autoreload 2\n",
    "import sys\n",
    "sys.path.append('../')\n",
    "from dataset_clevr_ryan import BoundingBox, Object, Relation, RelationalDataset, draw_scene_graph, draw_bboxes\n",
    "import numpy as np"
   ]
  },
  {
   "cell_type": "code",
   "execution_count": 23,
   "metadata": {},
   "outputs": [
    {
     "name": "stdout",
     "output_type": "stream",
     "text": [
      "BBOX(cx=21.12, cy=54.4, w=42.24, h=85.76) BBOX(cx=99.2, cy=58.24, w=57.599999999999994, h=88.32000000000001)\n",
      "[0.0, 0.08999999999999997, 0.33, 0.76] [0.55, 0.10999999999999999, 1.0, 0.8]\n"
     ]
    }
   ],
   "source": [
    "bbox_raw1 = np.array([0.0,0.09,0.33,0.76])\n",
    "bbox_raw2 = np.array([0.55,0.11,1.0,0.8])\n",
    "\n",
    "bbox_raw1 = bbox_raw1 * 128\n",
    "bbox_raw2 = bbox_raw2 * 128\n",
    "\n",
    "\n",
    "bbox1 = BoundingBox(bbox_raw1, \"lurb\")\n",
    "bbox2 = BoundingBox(bbox_raw2, \"lurb\")\n",
    "\n",
    "image = draw_bboxes([bbox1, bbox2])\n",
    "print(str(bbox1), str(bbox2))\n",
    "image\n",
    "print(bbox1.normalized_output(), bbox2.normalized_output())"
   ]
  },
  {
   "cell_type": "code",
   "execution_count": 4,
   "metadata": {},
   "outputs": [],
   "source": [
    "\n",
    "\n",
    "class RelationalDataset2O(RelationalDataset):\n",
    "    path = '/viscam/projects/ns-diffusion/dataset/clevr_rel_2objs_balanced.npz'\n",
    "    image_path = '/viscam/projects/ns-diffusion/dataset/clevr_rel_2objs_balanced_imgs/combined_file.npz'\n",
    "\n",
    "    def __init__(self, uncond_image_type=\"original\", center_crop=True, pick_one_relation=False):\n",
    "        super().__init__(self.path, uncond_image_type=uncond_image_type, center_crop=center_crop, pick_one_relation=pick_one_relation, image_path=self.image_path)\n",
    "\n",
    "\n",
    "class RelationalDataset3O(RelationalDataset):\n",
    "    path = '/viscam/projects/ns-diffusion/dataset/clevr_rel_3objs_old.npz'\n",
    "    image_path = '/viscam/projects/ns-diffusion/dataset/clevr_rel_3objs_imgs/combined_file.npz'\n",
    "\n",
    "    def __init__(self, uncond_image_type=\"original\", center_crop=True, pick_one_relation=False):\n",
    "        super().__init__(self.path, uncond_image_type=uncond_image_type, center_crop=center_crop, pick_one_relation=pick_one_relation, image_path=self.image_path)\n",
    "\n"
   ]
  },
  {
   "cell_type": "code",
   "execution_count": 5,
   "metadata": {},
   "outputs": [
    {
     "ename": "AssertionError",
     "evalue": "shape_idx should be less than 4, but got 4",
     "output_type": "error",
     "traceback": [
      "\u001b[0;31m---------------------------------------------------------------------------\u001b[0m",
      "\u001b[0;31mAssertionError\u001b[0m                            Traceback (most recent call last)",
      "Cell \u001b[0;32mIn[5], line 2\u001b[0m\n\u001b[1;32m      1\u001b[0m \u001b[39m# dataset2 = RelationalDataset2O()\u001b[39;00m\n\u001b[0;32m----> 2\u001b[0m dataset3 \u001b[39m=\u001b[39m RelationalDataset3O()\n\u001b[1;32m      4\u001b[0m \u001b[39mimport\u001b[39;00m \u001b[39mmatplotlib\u001b[39;00m\u001b[39m.\u001b[39;00m\u001b[39mpyplot\u001b[39;00m \u001b[39mas\u001b[39;00m \u001b[39mplt\u001b[39;00m\n\u001b[1;32m      5\u001b[0m \u001b[39mfrom\u001b[39;00m \u001b[39mnumpy\u001b[39;00m\u001b[39m.\u001b[39;00m\u001b[39mrandom\u001b[39;00m \u001b[39mimport\u001b[39;00m randint \u001b[39mas\u001b[39;00m rand\n",
      "Cell \u001b[0;32mIn[4], line 18\u001b[0m, in \u001b[0;36mRelationalDataset3O.__init__\u001b[0;34m(self, uncond_image_type, center_crop, pick_one_relation)\u001b[0m\n\u001b[1;32m     17\u001b[0m \u001b[39mdef\u001b[39;00m \u001b[39m__init__\u001b[39m(\u001b[39mself\u001b[39m, uncond_image_type\u001b[39m=\u001b[39m\u001b[39m\"\u001b[39m\u001b[39moriginal\u001b[39m\u001b[39m\"\u001b[39m, center_crop\u001b[39m=\u001b[39m\u001b[39mTrue\u001b[39;00m, pick_one_relation\u001b[39m=\u001b[39m\u001b[39mFalse\u001b[39;00m):\n\u001b[0;32m---> 18\u001b[0m     \u001b[39msuper\u001b[39;49m()\u001b[39m.\u001b[39;49m\u001b[39m__init__\u001b[39;49m(\u001b[39mself\u001b[39;49m\u001b[39m.\u001b[39;49mpath, uncond_image_type\u001b[39m=\u001b[39;49muncond_image_type, center_crop\u001b[39m=\u001b[39;49mcenter_crop, pick_one_relation\u001b[39m=\u001b[39;49mpick_one_relation, image_path\u001b[39m=\u001b[39;49m\u001b[39mself\u001b[39;49m\u001b[39m.\u001b[39;49mimage_path)\n",
      "File \u001b[0;32m/viscam/projects/ns-diffusion/xingjian/baselines/dataset.py:392\u001b[0m, in \u001b[0;36mRelationalDataset.__init__\u001b[0;34m(self, data_path, split, test_size, uncond_image_type, center_crop, pick_one_relation, image_path, num_upperbound, generated_object_num, generated_data_num, pos_type)\u001b[0m\n\u001b[1;32m    389\u001b[0m     indices \u001b[39m=\u001b[39m indices[:num_upperbound]\n\u001b[1;32m    391\u001b[0m colours \u001b[39m=\u001b[39m [(\u001b[39m166\u001b[39m, \u001b[39m0\u001b[39m, \u001b[39m0\u001b[39m), (\u001b[39m0\u001b[39m, \u001b[39m166\u001b[39m, \u001b[39m0\u001b[39m), (\u001b[39m0\u001b[39m, \u001b[39m0\u001b[39m, \u001b[39m166\u001b[39m), (\u001b[39m166\u001b[39m, \u001b[39m166\u001b[39m, \u001b[39m0\u001b[39m), (\u001b[39m166\u001b[39m, \u001b[39m0\u001b[39m, \u001b[39m166\u001b[39m), (\u001b[39m0\u001b[39m, \u001b[39m166\u001b[39m, \u001b[39m166\u001b[39m), (\u001b[39m166\u001b[39m, \u001b[39m166\u001b[39m, \u001b[39m166\u001b[39m)]\n\u001b[0;32m--> 392\u001b[0m \u001b[39mself\u001b[39m\u001b[39m.\u001b[39mobjects \u001b[39m=\u001b[39m [[Object(\u001b[39m*\u001b[39mobj) \u001b[39mfor\u001b[39;00m obj \u001b[39min\u001b[39;00m objects] \u001b[39mfor\u001b[39;00m objects \u001b[39min\u001b[39;00m \u001b[39mself\u001b[39m\u001b[39m.\u001b[39mdata[\u001b[39m'\u001b[39m\u001b[39mobjects\u001b[39m\u001b[39m'\u001b[39m][indices]]\n\u001b[1;32m    393\u001b[0m \u001b[39mself\u001b[39m\u001b[39m.\u001b[39mbboxes \u001b[39m=\u001b[39m [[BoundingBox(bbox, pos_type\u001b[39m=\u001b[39mpos_type, color \u001b[39m=\u001b[39m colours[i \u001b[39m%\u001b[39m \u001b[39mlen\u001b[39m(colours)]) \u001b[39mfor\u001b[39;00m i, bbox \u001b[39min\u001b[39;00m \u001b[39menumerate\u001b[39m(bboxes) ] \u001b[39mfor\u001b[39;00m bboxes \u001b[39min\u001b[39;00m \u001b[39mself\u001b[39m\u001b[39m.\u001b[39mdata[\u001b[39m'\u001b[39m\u001b[39mbboxes\u001b[39m\u001b[39m'\u001b[39m][indices]]\n\u001b[1;32m    395\u001b[0m \u001b[39m# print(\"boxes[0]\", self.bboxes[0][0].tensorize(), self.data['bboxes'][indices][0][0])\u001b[39;00m\n",
      "File \u001b[0;32m/viscam/projects/ns-diffusion/xingjian/baselines/dataset.py:392\u001b[0m, in \u001b[0;36m<listcomp>\u001b[0;34m(.0)\u001b[0m\n\u001b[1;32m    389\u001b[0m     indices \u001b[39m=\u001b[39m indices[:num_upperbound]\n\u001b[1;32m    391\u001b[0m colours \u001b[39m=\u001b[39m [(\u001b[39m166\u001b[39m, \u001b[39m0\u001b[39m, \u001b[39m0\u001b[39m), (\u001b[39m0\u001b[39m, \u001b[39m166\u001b[39m, \u001b[39m0\u001b[39m), (\u001b[39m0\u001b[39m, \u001b[39m0\u001b[39m, \u001b[39m166\u001b[39m), (\u001b[39m166\u001b[39m, \u001b[39m166\u001b[39m, \u001b[39m0\u001b[39m), (\u001b[39m166\u001b[39m, \u001b[39m0\u001b[39m, \u001b[39m166\u001b[39m), (\u001b[39m0\u001b[39m, \u001b[39m166\u001b[39m, \u001b[39m166\u001b[39m), (\u001b[39m166\u001b[39m, \u001b[39m166\u001b[39m, \u001b[39m166\u001b[39m)]\n\u001b[0;32m--> 392\u001b[0m \u001b[39mself\u001b[39m\u001b[39m.\u001b[39mobjects \u001b[39m=\u001b[39m [[Object(\u001b[39m*\u001b[39mobj) \u001b[39mfor\u001b[39;00m obj \u001b[39min\u001b[39;00m objects] \u001b[39mfor\u001b[39;00m objects \u001b[39min\u001b[39;00m \u001b[39mself\u001b[39m\u001b[39m.\u001b[39mdata[\u001b[39m'\u001b[39m\u001b[39mobjects\u001b[39m\u001b[39m'\u001b[39m][indices]]\n\u001b[1;32m    393\u001b[0m \u001b[39mself\u001b[39m\u001b[39m.\u001b[39mbboxes \u001b[39m=\u001b[39m [[BoundingBox(bbox, pos_type\u001b[39m=\u001b[39mpos_type, color \u001b[39m=\u001b[39m colours[i \u001b[39m%\u001b[39m \u001b[39mlen\u001b[39m(colours)]) \u001b[39mfor\u001b[39;00m i, bbox \u001b[39min\u001b[39;00m \u001b[39menumerate\u001b[39m(bboxes) ] \u001b[39mfor\u001b[39;00m bboxes \u001b[39min\u001b[39;00m \u001b[39mself\u001b[39m\u001b[39m.\u001b[39mdata[\u001b[39m'\u001b[39m\u001b[39mbboxes\u001b[39m\u001b[39m'\u001b[39m][indices]]\n\u001b[1;32m    395\u001b[0m \u001b[39m# print(\"boxes[0]\", self.bboxes[0][0].tensorize(), self.data['bboxes'][indices][0][0])\u001b[39;00m\n",
      "File \u001b[0;32m/viscam/projects/ns-diffusion/xingjian/baselines/dataset.py:392\u001b[0m, in \u001b[0;36m<listcomp>\u001b[0;34m(.0)\u001b[0m\n\u001b[1;32m    389\u001b[0m     indices \u001b[39m=\u001b[39m indices[:num_upperbound]\n\u001b[1;32m    391\u001b[0m colours \u001b[39m=\u001b[39m [(\u001b[39m166\u001b[39m, \u001b[39m0\u001b[39m, \u001b[39m0\u001b[39m), (\u001b[39m0\u001b[39m, \u001b[39m166\u001b[39m, \u001b[39m0\u001b[39m), (\u001b[39m0\u001b[39m, \u001b[39m0\u001b[39m, \u001b[39m166\u001b[39m), (\u001b[39m166\u001b[39m, \u001b[39m166\u001b[39m, \u001b[39m0\u001b[39m), (\u001b[39m166\u001b[39m, \u001b[39m0\u001b[39m, \u001b[39m166\u001b[39m), (\u001b[39m0\u001b[39m, \u001b[39m166\u001b[39m, \u001b[39m166\u001b[39m), (\u001b[39m166\u001b[39m, \u001b[39m166\u001b[39m, \u001b[39m166\u001b[39m)]\n\u001b[0;32m--> 392\u001b[0m \u001b[39mself\u001b[39m\u001b[39m.\u001b[39mobjects \u001b[39m=\u001b[39m [[Object(\u001b[39m*\u001b[39;49mobj) \u001b[39mfor\u001b[39;00m obj \u001b[39min\u001b[39;00m objects] \u001b[39mfor\u001b[39;00m objects \u001b[39min\u001b[39;00m \u001b[39mself\u001b[39m\u001b[39m.\u001b[39mdata[\u001b[39m'\u001b[39m\u001b[39mobjects\u001b[39m\u001b[39m'\u001b[39m][indices]]\n\u001b[1;32m    393\u001b[0m \u001b[39mself\u001b[39m\u001b[39m.\u001b[39mbboxes \u001b[39m=\u001b[39m [[BoundingBox(bbox, pos_type\u001b[39m=\u001b[39mpos_type, color \u001b[39m=\u001b[39m colours[i \u001b[39m%\u001b[39m \u001b[39mlen\u001b[39m(colours)]) \u001b[39mfor\u001b[39;00m i, bbox \u001b[39min\u001b[39;00m \u001b[39menumerate\u001b[39m(bboxes) ] \u001b[39mfor\u001b[39;00m bboxes \u001b[39min\u001b[39;00m \u001b[39mself\u001b[39m\u001b[39m.\u001b[39mdata[\u001b[39m'\u001b[39m\u001b[39mbboxes\u001b[39m\u001b[39m'\u001b[39m][indices]]\n\u001b[1;32m    395\u001b[0m \u001b[39m# print(\"boxes[0]\", self.bboxes[0][0].tensorize(), self.data['bboxes'][indices][0][0])\u001b[39;00m\n",
      "File \u001b[0;32m/viscam/projects/ns-diffusion/xingjian/baselines/dataset.py:110\u001b[0m, in \u001b[0;36mObject.__init__\u001b[0;34m(self, shape_idx, size_idx, color_idx, material_idx)\u001b[0m\n\u001b[1;32m    108\u001b[0m \u001b[39massert\u001b[39;00m \u001b[39mself\u001b[39m\u001b[39m.\u001b[39mcolor_idx \u001b[39m<\u001b[39m \u001b[39mlen\u001b[39m(Object\u001b[39m.\u001b[39mcolors), \u001b[39mf\u001b[39m\u001b[39m\"\u001b[39m\u001b[39mcolor_idx should be less than \u001b[39m\u001b[39m{\u001b[39;00m\u001b[39mlen\u001b[39m(Object\u001b[39m.\u001b[39mcolors)\u001b[39m}\u001b[39;00m\u001b[39m, but got \u001b[39m\u001b[39m{\u001b[39;00m\u001b[39mself\u001b[39m\u001b[39m.\u001b[39mcolor_idx\u001b[39m}\u001b[39;00m\u001b[39m\"\u001b[39m\n\u001b[1;32m    109\u001b[0m \u001b[39massert\u001b[39;00m \u001b[39mself\u001b[39m\u001b[39m.\u001b[39mmaterial_idx \u001b[39m<\u001b[39m \u001b[39mlen\u001b[39m(Object\u001b[39m.\u001b[39mmaterials), \u001b[39mf\u001b[39m\u001b[39m\"\u001b[39m\u001b[39mmaterial_idx should be less than \u001b[39m\u001b[39m{\u001b[39;00m\u001b[39mlen\u001b[39m(Object\u001b[39m.\u001b[39mmaterials)\u001b[39m}\u001b[39;00m\u001b[39m, but got \u001b[39m\u001b[39m{\u001b[39;00m\u001b[39mself\u001b[39m\u001b[39m.\u001b[39mmaterial_idx\u001b[39m}\u001b[39;00m\u001b[39m\"\u001b[39m\n\u001b[0;32m--> 110\u001b[0m \u001b[39massert\u001b[39;00m \u001b[39mself\u001b[39m\u001b[39m.\u001b[39mshape_idx \u001b[39m<\u001b[39m \u001b[39mlen\u001b[39m(Object\u001b[39m.\u001b[39mshapes), \u001b[39mf\u001b[39m\u001b[39m\"\u001b[39m\u001b[39mshape_idx should be less than \u001b[39m\u001b[39m{\u001b[39;00m\u001b[39mlen\u001b[39m(Object\u001b[39m.\u001b[39mshapes)\u001b[39m}\u001b[39;00m\u001b[39m, but got \u001b[39m\u001b[39m{\u001b[39;00m\u001b[39mself\u001b[39m\u001b[39m.\u001b[39mshape_idx\u001b[39m}\u001b[39;00m\u001b[39m\"\u001b[39m\n\u001b[1;32m    111\u001b[0m \u001b[39massert\u001b[39;00m \u001b[39mself\u001b[39m\u001b[39m.\u001b[39msize_idx \u001b[39m<\u001b[39m \u001b[39mlen\u001b[39m(Object\u001b[39m.\u001b[39msizes), \u001b[39mf\u001b[39m\u001b[39m\"\u001b[39m\u001b[39msize_idx should be less than \u001b[39m\u001b[39m{\u001b[39;00m\u001b[39mlen\u001b[39m(Object\u001b[39m.\u001b[39msizes)\u001b[39m}\u001b[39;00m\u001b[39m, but got \u001b[39m\u001b[39m{\u001b[39;00m\u001b[39mself\u001b[39m\u001b[39m.\u001b[39msize_idx\u001b[39m}\u001b[39;00m\u001b[39m\"\u001b[39m\n",
      "\u001b[0;31mAssertionError\u001b[0m: shape_idx should be less than 4, but got 4"
     ]
    }
   ],
   "source": [
    "# dataset2 = RelationalDataset2O()\n",
    "dataset3 = RelationalDataset3O()\n",
    "\n",
    "import matplotlib.pyplot as plt\n",
    "from numpy.random import randint as rand"
   ]
  },
  {
   "cell_type": "code",
   "execution_count": null,
   "metadata": {},
   "outputs": [
    {
     "name": "stdout",
     "output_type": "stream",
     "text": [
      "before: tensor([[0, 1, 1, 0, 1, 1, 7, 1, 0],\n",
      "        [0, 1, 1, 0, 1, 1, 7, 1, 2],\n",
      "        [1, 1, 7, 1, 0, 1, 1, 0, 1],\n",
      "        [1, 1, 7, 1, 0, 1, 1, 0, 3]]) tensor([[0, 1],\n",
      "        [0, 1],\n",
      "        [1, 0],\n",
      "        [1, 0]])\n"
     ]
    },
    {
     "data": {
      "image/png": "[encoded data removed]",
      "text/plain": [
       "<PIL.PngImagePlugin.PngImageFile image mode=RGBA size=400x400>"
      ]
     },
     "execution_count": 28,
     "metadata": {},
     "output_type": "execute_result"
    }
   ],
   "source": [
    "rand_id = 0\n",
    "clean_image, objects, relations, bboxes, generated_prompt, raw_image, raw_image_tensor, relations_ids = dataset3[rand_id]\n",
    "draw_scene_graph(objects, relations, relations_ids)"
   ]
  },
  {
   "cell_type": "code",
   "execution_count": 4,
   "metadata": {},
   "outputs": [
    {
     "name": "stdout",
     "output_type": "stream",
     "text": [
      "tensor([3, 0, 1, 1])\n",
      "tensor([1, 1, 2, 0])\n",
      "tensor([4, 1, 1, 1])\n",
      "tensor([0, 0, 2, 1])\n",
      "tensor([2, 0, 2, 0])\n",
      "tensor([1, 0, 0, 0])\n",
      "tensor([7, 0, 0, 1])\n",
      "tensor([3, 1, 1, 1])\n",
      "tensor([7, 0, 0, 1])\n",
      "tensor([7, 0, 0, 1])\n",
      "tensor([6, 1, 1, 1])\n",
      "tensor([4, 1, 1, 0])\n",
      "tensor([7, 1, 1, 0])\n",
      "tensor([1, 1, 0, 1])\n",
      "tensor([3, 1, 1, 1])\n",
      "tensor([0, 0, 2, 0])\n",
      "tensor([7, 0, 0, 1])\n",
      "tensor([6, 1, 0, 0])\n",
      "tensor([1, 1, 1, 1])\n",
      "tensor([1, 0, 1, 1])\n",
      "tensor([2, 0, 1, 1])\n",
      "tensor([4, 0, 0, 1])\n",
      "tensor([3, 1, 2, 0])\n",
      "tensor([0, 1, 0, 1])\n",
      "tensor([1, 0, 2, 1])\n",
      "tensor([1, 0, 0, 0])\n",
      "tensor([2, 1, 0, 0])\n",
      "tensor([1, 0, 1, 1])\n",
      "tensor([2, 1, 0, 1])\n",
      "tensor([0, 0, 1, 1])\n",
      "tensor([3, 1, 0, 1])\n",
      "tensor([3, 1, 2, 1])\n",
      "tensor([6, 0, 0, 1])\n",
      "tensor([7, 1, 1, 1])\n",
      "tensor([5, 0, 0, 1])\n",
      "tensor([7, 0, 0, 1])\n",
      "tensor([0, 1, 0, 0])\n",
      "tensor([7, 1, 1, 1])\n",
      "tensor([3, 0, 2, 1])\n",
      "tensor([4, 0, 2, 0])\n",
      "tensor([5, 0, 1, 1])\n",
      "tensor([2, 1, 1, 1])\n",
      "tensor([0, 1, 2, 0])\n",
      "tensor([6, 1, 0, 1])\n",
      "tensor([0, 1, 1, 1])\n",
      "tensor([5, 1, 2, 1])\n",
      "tensor([4, 1, 0, 1])\n",
      "tensor([7, 0, 2, 1])\n",
      "tensor([0, 1, 1, 1])\n",
      "tensor([0, 1, 2, 1])\n",
      "tensor([0, 0, 2, 0])\n",
      "tensor([0, 1, 2, 1])\n",
      "tensor([3, 1, 1, 1])\n",
      "tensor([0, 0, 1, 1])\n",
      "tensor([6, 1, 0, 1])\n",
      "tensor([4, 1, 0, 0])\n",
      "tensor([2, 1, 1, 0])\n",
      "tensor([3, 0, 1, 1])\n",
      "tensor([5, 1, 0, 0])\n",
      "tensor([0, 0, 2, 1])\n",
      "tensor([1, 1, 2, 1])\n",
      "tensor([4, 0, 2, 1])\n",
      "tensor([1, 1, 2, 1])\n",
      "tensor([3, 1, 0, 1])\n",
      "tensor([6, 1, 0, 0])\n",
      "tensor([2, 1, 0, 1])\n",
      "tensor([7, 1, 2, 1])\n",
      "tensor([4, 1, 0, 0])\n",
      "tensor([5, 1, 2, 0])\n",
      "tensor([4, 1, 2, 0])\n",
      "tensor([2, 1, 1, 1])\n",
      "tensor([3, 0, 2, 0])\n",
      "tensor([1, 0, 1, 1])\n",
      "tensor([3, 1, 0, 0])\n",
      "tensor([4, 1, 0, 1])\n",
      "tensor([2, 1, 2, 0])\n",
      "tensor([3, 0, 0, 1])\n",
      "tensor([7, 0, 2, 1])\n",
      "tensor([0, 0, 1, 1])\n",
      "tensor([3, 0, 2, 1])\n",
      "tensor([4, 1, 2, 0])\n",
      "tensor([1, 0, 0, 0])\n",
      "tensor([5, 0, 1, 1])\n",
      "tensor([5, 0, 2, 0])\n",
      "tensor([3, 0, 1, 0])\n",
      "tensor([5, 0, 1, 1])\n",
      "tensor([7, 0, 0, 1])\n",
      "tensor([5, 1, 2, 1])\n",
      "tensor([7, 1, 1, 0])\n",
      "tensor([1, 0, 1, 1])\n",
      "tensor([6, 0, 1, 1])\n",
      "tensor([6, 1, 0, 1])\n",
      "tensor([1, 0, 2, 1])\n",
      "tensor([7, 1, 0, 1])\n",
      "tensor([3, 1, 1, 0])\n",
      "tensor([2, 1, 2, 1])\n",
      "tensor([0, 1, 1, 0])\n",
      "tensor([0, 1, 0, 1])\n",
      "tensor([3, 0, 1, 1])\n",
      "tensor([7, 1, 2, 1])\n"
     ]
    }
   ],
   "source": [
    "for i in range(100):\n",
    "    obj = dataset2.objects[i][0]\n",
    "    print(obj.tensorize())"
   ]
  },
  {
   "cell_type": "code",
   "execution_count": 7,
   "metadata": {},
   "outputs": [],
   "source": [
    "image0 = dataset2.annotated_images[rand_id]\n",
    "image1 = dataset2.images[rand_id]\n",
    "relations = dataset2.relations[rand_id]\n",
    "objects = dataset2.objects[rand_id]\n",
    "prompt = dataset2.prompts[rand_id]\n",
    "bboxes = dataset2.bboxes[rand_id]"
   ]
  },
  {
   "cell_type": "code",
   "execution_count": 6,
   "metadata": {},
   "outputs": [
    {
     "name": "stdout",
     "output_type": "stream",
     "text": [
      "[]\n",
      "[tensor([4, 0, 1, 1])]\n",
      "\n",
      "[tensor([-0.4766, -0.0078,  0.2734,  0.2891])]\n"
     ]
    },
    {
     "data": {
      "image/png": "[encoded data removed]",
      "text/plain": [
       "<PIL.Image.Image image mode=RGB size=256x128>"
      ]
     },
     "execution_count": 6,
     "metadata": {},
     "output_type": "execute_result"
    }
   ],
   "source": [
    "from utils import combine_images\n",
    "image = combine_images(image1, image0)\n",
    "print([rel.tensorize() for rel in relations])\n",
    "print([obj.tensorize() for obj in objects])\n",
    "print(prompt)\n",
    "print([bbox.tensorize() for bbox in bboxes])\n",
    "image"
   ]
  },
  {
   "cell_type": "code",
   "execution_count": 10,
   "metadata": {},
   "outputs": [],
   "source": [
    "import numpy as np\n",
    "data = np.load('/viscam/projects/ns-diffusion/dataset/clevr_rel_1obj_imgs/1.npz')"
   ]
  },
  {
   "cell_type": "code",
   "execution_count": null,
   "metadata": {},
   "outputs": [],
   "source": []
  }
 ],
 "metadata": {
  "kernelspec": {
   "display_name": "Python 3",
   "language": "python",
   "name": "python3"
  },
  "language_info": {
   "codemirror_mode": {
    "name": "ipython",
    "version": 3
   },
   "file_extension": ".py",
   "mimetype": "text/x-python",
   "name": "python",
   "nbconvert_exporter": "python",
   "pygments_lexer": "ipython3",
   "version": "3.10.6"
  },
  "orig_nbformat": 4
 },
 "nbformat": 4,
 "nbformat_minor": 2
}
