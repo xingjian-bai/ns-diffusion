{
 "cells": [
  {
   "cell_type": "code",
   "execution_count": 3,
   "metadata": {},
   "outputs": [],
   "source": [
    "import sys\n",
    "sys.path.append('../')\n",
    "from dataset import BoundingBox, Object, Relation, RelationalDataset"
   ]
  },
  {
   "cell_type": "code",
   "execution_count": 4,
   "metadata": {},
   "outputs": [],
   "source": [
    "\n",
    "class RelationalDataset2O(RelationalDataset):\n",
    "    path = '/viscam/projects/ns-diffusion/dataset/clevr_rel_2objs.npz'\n",
    "    def __init__(self, uncond_image_type=\"original\", center_crop=True, pick_one_relation=True):\n",
    "        super().__init__(self.path, uncond_image_type, center_crop, pick_one_relation)\n",
    "\n",
    "class RelationalDataset1O(RelationalDataset):\n",
    "    path = '/viscam/projects/ns-diffusion/dataset/clevr_rel_1obj.npz'\n",
    "    def __init__(self, uncond_image_type=\"original\", center_crop=True, pick_one_relation=True):\n",
    "        super().__init__(self.path, uncond_image_type, center_crop, pick_one_relation)\n",
    "\n",
    "class RelationalDataset3O(RelationalDataset):\n",
    "    path = '/viscam/projects/ns-diffusion/dataset/clevr_rel_3objs.npz'\n",
    "    def __init__(self, uncond_image_type=\"original\", center_crop=True, pick_one_relation=True):\n",
    "        super().__init__(self.path, uncond_image_type, center_crop, pick_one_relation)"
   ]
  },
  {
   "cell_type": "code",
   "execution_count": 5,
   "metadata": {},
   "outputs": [],
   "source": [
    "dataset2 = RelationalDataset3O()\n",
    "import matplotlib.pyplot as plt\n",
    "from numpy.random import randint as rand"
   ]
  },
  {
   "cell_type": "code",
   "execution_count": null,
   "metadata": {},
   "outputs": [],
   "source": [
    "image0 = dataset2.annotated_images[rand(0, len(dataset2.images))]"
   ]
  },
  {
   "cell_type": "code",
   "execution_count": 8,
   "metadata": {},
   "outputs": [
    {
     "ename": "",
     "evalue": "",
     "output_type": "error",
     "traceback": [
      "\u001b[1;31mCannot execute code, session has been disposed. Please try restarting the Kernel."
     ]
    },
    {
     "ename": "",
     "evalue": "",
     "output_type": "error",
     "traceback": [
      "\u001b[1;31mThe Kernel crashed while executing code in the the current cell or a previous cell. Please review the code in the cell(s) to identify a possible cause of the failure. Click <a href='https://aka.ms/vscodeJupyterKernelCrash'>here</a> for more info. View Jupyter <a href='command:jupyter.viewOutput'>log</a> for further details."
     ]
    }
   ],
   "source": [
    "dataset3 = RelationalDataset3O()"
   ]
  },
  {
   "cell_type": "code",
   "execution_count": null,
   "metadata": {},
   "outputs": [],
   "source": []
  },
  {
   "cell_type": "code",
   "execution_count": null,
   "metadata": {},
   "outputs": [],
   "source": []
  }
 ],
 "metadata": {
  "kernelspec": {
   "display_name": "Python 3",
   "language": "python",
   "name": "python3"
  },
  "language_info": {
   "codemirror_mode": {
    "name": "ipython",
    "version": 3
   },
   "file_extension": ".py",
   "mimetype": "text/x-python",
   "name": "python",
   "nbconvert_exporter": "python",
   "pygments_lexer": "ipython3",
   "version": "3.10.6"
  },
  "orig_nbformat": 4
 },
 "nbformat": 4,
 "nbformat_minor": 2
}
